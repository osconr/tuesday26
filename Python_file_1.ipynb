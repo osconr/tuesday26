{
 "cells": [
  {
   "cell_type": "code",
   "execution_count": 1,
   "id": "1b7c69fc",
   "metadata": {
    "scrolled": true
   },
   "outputs": [
    {
     "name": "stdout",
     "output_type": "stream",
     "text": [
      "Yahoo!\n",
      "Yahoo!\n",
      "Yahoo!\n",
      "Yahoo!\n",
      "Yahoo!\n",
      "Yahoo!\n",
      "Yahoo!\n",
      "Yahoo!\n",
      "Yahoo!\n",
      "Yahoo!\n"
     ]
    }
   ],
   "source": [
    "for i in range(10):\n",
    "    print('Yahoo!')"
   ]
  },
  {
   "cell_type": "code",
   "execution_count": 1,
   "id": "c53e2439",
   "metadata": {},
   "outputs": [
    {
     "name": "stdout",
     "output_type": "stream",
     "text": [
      "I am tired!\n"
     ]
    }
   ],
   "source": [
    "print(\"I am tired!\")"
   ]
  },
  {
   "cell_type": "code",
   "execution_count": 1,
   "id": "7d2a1dbb",
   "metadata": {},
   "outputs": [
    {
     "name": "stdout",
     "output_type": "stream",
     "text": [
      "this is the second edit\n"
     ]
    }
   ],
   "source": [
    "print(\"this is the second edit\")"
   ]
  }
 ],
 "metadata": {
  "kernelspec": {
   "display_name": "Python 3",
   "language": "python",
   "name": "python3"
  },
  "language_info": {
   "codemirror_mode": {
    "name": "ipython",
    "version": 3
   },
   "file_extension": ".py",
   "mimetype": "text/x-python",
   "name": "python",
   "nbconvert_exporter": "python",
   "pygments_lexer": "ipython3",
   "version": "3.8.8"
  }
 },
 "nbformat": 4,
 "nbformat_minor": 5
}
